{
 "cells": [
  {
   "cell_type": "code",
   "execution_count": 18,
   "metadata": {},
   "outputs": [],
   "source": [
    "import redis\n",
    "import time\n",
    "import pickle"
   ]
  },
  {
   "cell_type": "code",
   "execution_count": 179,
   "metadata": {},
   "outputs": [],
   "source": [
    "class RedisLog():\n",
    "    def __init__(self, sname = 'RedisLog', fname = 'NA', status = 1, error = None, uuid = 0):\n",
    "        self.service_name = sname\n",
    "        self.func_name = fname\n",
    "        self.status = status\n",
    "        self.error = error\n",
    "        self.uuid = uuid\n",
    "        self.timestamp = int(time.time())\n",
    "    def print(self):\n",
    "        print(\"Service Name:%s\"%self.service_name)\n",
    "        print(\"Function Name:%s\"%self.func_name)\n",
    "        print(\"Status:%s\"%self.status)\n",
    "        print(\"Error:%s\"%self.error)\n",
    "        print(\"UUID:%s\"%self.uuid)\n",
    "        print(\"Timestamp:%s\"%self.timestamp)\n",
    "            \n",
    "class Redis():\n",
    "    def __init__(self, host, port, password):\n",
    "        try:\n",
    "            self.redis = redis.StrictRedis(host = host,\n",
    "                                    port = port,\n",
    "                                    password = password)\n",
    "        except Exception as e:\n",
    "            #redis can not be connected\n",
    "            self.redis = None\n",
    "            #user should check if redis is none or not before proceeding\n",
    "            pass\n",
    "    def serialize(self, objs):\n",
    "        \"\"\"\n",
    "        objs: list of python objects\n",
    "        return: list of picked objects, [] if failed\n",
    "        \"\"\"\n",
    "        try:\n",
    "            pobjs=[]\n",
    "            for o in objs:\n",
    "                pobjs.append(pickle.dumps(o))\n",
    "            return pobjs\n",
    "        except Exception as e:\n",
    "            print (e)\n",
    "            return []\n",
    "    def set_expire(self, key, ts):\n",
    "        \"\"\"\n",
    "        key: service name\n",
    "        ts: time in seconds\n",
    "        return: -1 if fail\n",
    "        \"\"\"\n",
    "        try:\n",
    "            self.redis.pexpire(key,ts*1000)\n",
    "        except Exception as e:\n",
    "            print (e)\n",
    "            return -1\n",
    "    def get_ttl(self, key):\n",
    "        \"\"\"\n",
    "        key: service name\n",
    "        return: time (seconds) before expire, -1 if fail\n",
    "        \"\"\"\n",
    "        try:\n",
    "            t = self.redis.pttl(key)\n",
    "            return t/1000\n",
    "        except Exception as e:\n",
    "            print(e)\n",
    "            return -1\n",
    "    def put(self, key, values):\n",
    "        \"\"\"\n",
    "        key: service name\n",
    "        values: list of logs or a single log\n",
    "        return: number of logs inserted, 0 if nothing inserted        \n",
    "        \"\"\"\n",
    "        if isinstance(values, list):\n",
    "            if(len(values) ==0):\n",
    "                return 0\n",
    "        else:\n",
    "            if values:\n",
    "                values = [values]\n",
    "            else:\n",
    "                # values is none\n",
    "                return 0\n",
    "        try:\n",
    "            #push all values into redis' list tail\n",
    "            #serialize first\n",
    "            vobjs = self.serialize(values)\n",
    "            #push all objects to redis \n",
    "            if self.redis:\n",
    "                self.redis.rpush(key,*vobjs)\n",
    "                return len(vobjs)\n",
    "            else:\n",
    "                return 0\n",
    "        except Exception as e:\n",
    "            #in case of expection, push a simple error log into redis\n",
    "            print (e)\n",
    "            rlog = RedisLog(fname = 'rpush', status = 0, error = e)\n",
    "            rlog_obj = self.serialize([rlog])\n",
    "            try:\n",
    "                self.redis.rpush('RedisLog',rlog_obj)\n",
    "            except Exception as e:\n",
    "                #redis failed with best try\n",
    "                print (e)\n",
    "                return 0\n",
    "    def get(self, key, num=None):\n",
    "        \"\"\"\n",
    "        key: service name\n",
    "        num: number of logs to get\n",
    "        return: list of RedisLog or [] if none found\n",
    "        \"\"\"\n",
    "        #get latest num logs from service key\n",
    "        Logs = []\n",
    "        try:\n",
    "            if num != None and num >0:\n",
    "                objs = self.redis.lrange(key, -num, -1)\n",
    "            else:\n",
    "                objs = self.redis.lrange(key,0,-1)\n",
    "                #print(\"objs:\",objs)\n",
    "            for o in objs:\n",
    "                Logs.append(pickle.loads(o))\n",
    "            return Logs\n",
    "        except Exception as e:\n",
    "            print (e)\n",
    "            return []"
   ]
  },
  {
   "cell_type": "code",
   "execution_count": 207,
   "metadata": {},
   "outputs": [],
   "source": [
    "#For local test on mac\n",
    "#redis-server /usr/local/etc/redis.conf\n",
    "#redis-cli shutdown\n",
    "#redis-cli  -h localhost -p 6379 -a sunmiai2020 lrange  -3 -1 humanalarm\n",
    "import os\n",
    "class Test_Redis():\n",
    "    def __init__(self):\n",
    "        self.r = None\n",
    "    def test_connect(self):\n",
    "        #setting up Redis connection\n",
    "        host = os.getenv('RedisHost', default = 'localhost')\n",
    "        port = os.getenv('RedisPort', default = '6379')\n",
    "        password = os.getenv('RedisPass', default = 'idontknow')\n",
    "        r = Redis(host, port, password)\n",
    "        self.r = r\n",
    "    def test_put_onelog(self):\n",
    "        #Test inserting a single log\n",
    "        rlog0 = RedisLog(sname = 'humanalarm', \n",
    "                         fname = 'detection',\n",
    "                         status = 0,\n",
    "                         error = 'single log error',\n",
    "                         uuid = 1000)\n",
    "        key = 'humanalarm'\n",
    "        l = self.r.put(key, rlog0)\n",
    "        assert(l == 1)\n",
    "    def test_put_logs(self):\n",
    "        #Test inserting a list of logs\n",
    "        RLogs=[]\n",
    "        rlog1 = RedisLog(sname = 'humanalarm', \n",
    "                         fname = 'detection',\n",
    "                         status = 1,\n",
    "                         error = '',\n",
    "                         uuid = 1000133)\n",
    "        RLogs.append(rlog1)\n",
    "        time.sleep(1)\n",
    "\n",
    "        rlog2 = RedisLog(sname = 'humanalarm', \n",
    "                         fname = 'detection',\n",
    "                         status = 0,\n",
    "                         error = 'some expection',\n",
    "                         uuid = 1000133)\n",
    "        RLogs.append(rlog2)\n",
    "        #Add logs into redis\n",
    "        key = 'humanalarm'\n",
    "        l = self.r.put(key, RLogs)\n",
    "        assert(l==len(RLogs)) \n",
    "    def test_get_latest(self):\n",
    "        #Test retrieving latest #num logs\n",
    "        key = 'humanalarm'\n",
    "        num = 3 # retrieve latest 3 logs for service 'humanalarm'\n",
    "        logs = self.r.get(key,num)\n",
    "        for log in logs:\n",
    "            log.print()\n",
    "    def test_get_all(self):\n",
    "        #Test retrieving all logs for service \n",
    "        key = 'humanalarm'\n",
    "        logs = self.r.get(key) \n",
    "        if logs:\n",
    "            for log in logs:\n",
    "                log.print()\n",
    "        print('Total Logs:%d'%len(logs))\n",
    "    def test_set_expire(self):\n",
    "        #Test setting expiration time for a service\n",
    "        key = 'humanalarm'\n",
    "        ts = 30 # set it expire after 60 seconds\n",
    "        self.r.set_expire(key,ts)\n",
    "        print('TTL for service:%s = %f'%(key,ts))\n",
    "        time.sleep(10)\n",
    "        ttl = self.r.get_ttl(key)\n",
    "        print('TTL for service:%s = %f'%(key,ttl))\n",
    "        time.sleep(20)\n",
    "        ttl = self.r.get_ttl(key)\n",
    "        print('TTL for service:%s = %f'%(key,ttl))\n",
    "        time.sleep(5)\n",
    "        ttl = self.r.get_ttl(key)\n",
    "        print('TTL for service:%s = %f'%(key,ttl))\n",
    "        time.sleep(5)\n",
    "        ttl = self.r.get_ttl(key)\n",
    "        print('TTL for service:%s = %f'%(key,ttl))"
   ]
  },
  {
   "cell_type": "code",
   "execution_count": 208,
   "metadata": {},
   "outputs": [],
   "source": [
    "test = Test_Redis()"
   ]
  },
  {
   "cell_type": "code",
   "execution_count": 209,
   "metadata": {},
   "outputs": [],
   "source": [
    "test.test_connect()"
   ]
  },
  {
   "cell_type": "code",
   "execution_count": 210,
   "metadata": {},
   "outputs": [],
   "source": [
    "test.test_put_onelog()"
   ]
  },
  {
   "cell_type": "code",
   "execution_count": 211,
   "metadata": {},
   "outputs": [],
   "source": [
    "test.test_put_logs()"
   ]
  },
  {
   "cell_type": "code",
   "execution_count": 212,
   "metadata": {},
   "outputs": [
    {
     "name": "stdout",
     "output_type": "stream",
     "text": [
      "Service Name:humanalarm\n",
      "Function Name:detection\n",
      "Status:0\n",
      "Error:single log error\n",
      "UUID:1000\n",
      "Timestamp:1589321124\n",
      "Service Name:humanalarm\n",
      "Function Name:detection\n",
      "Status:1\n",
      "Error:\n",
      "UUID:1000133\n",
      "Timestamp:1589321124\n",
      "Service Name:humanalarm\n",
      "Function Name:detection\n",
      "Status:0\n",
      "Error:some expection\n",
      "UUID:1000133\n",
      "Timestamp:1589321125\n"
     ]
    }
   ],
   "source": [
    "test.test_get_latest()"
   ]
  },
  {
   "cell_type": "code",
   "execution_count": 213,
   "metadata": {},
   "outputs": [
    {
     "name": "stdout",
     "output_type": "stream",
     "text": [
      "Service Name:humanalarm\n",
      "Function Name:detection\n",
      "Status:0\n",
      "Error:single log error\n",
      "UUID:1000\n",
      "Timestamp:1589321124\n",
      "Service Name:humanalarm\n",
      "Function Name:detection\n",
      "Status:1\n",
      "Error:\n",
      "UUID:1000133\n",
      "Timestamp:1589321124\n",
      "Service Name:humanalarm\n",
      "Function Name:detection\n",
      "Status:0\n",
      "Error:some expection\n",
      "UUID:1000133\n",
      "Timestamp:1589321125\n",
      "Total Logs:3\n"
     ]
    }
   ],
   "source": [
    "test.test_get_all()"
   ]
  },
  {
   "cell_type": "code",
   "execution_count": 214,
   "metadata": {},
   "outputs": [
    {
     "name": "stdout",
     "output_type": "stream",
     "text": [
      "TTL for service:humanalarm = 30.000000\n",
      "TTL for service:humanalarm = 19.999000\n",
      "TTL for service:humanalarm = -0.002000\n",
      "TTL for service:humanalarm = -0.002000\n",
      "TTL for service:humanalarm = -0.002000\n"
     ]
    }
   ],
   "source": [
    "test.test_set_expire()"
   ]
  },
  {
   "cell_type": "code",
   "execution_count": 215,
   "metadata": {},
   "outputs": [],
   "source": [
    "test.test_get_latest()"
   ]
  },
  {
   "cell_type": "code",
   "execution_count": 216,
   "metadata": {},
   "outputs": [],
   "source": [
    "test.test_get_latest()"
   ]
  },
  {
   "cell_type": "code",
   "execution_count": null,
   "metadata": {},
   "outputs": [],
   "source": []
  }
 ],
 "metadata": {
  "kernelspec": {
   "display_name": "Python 3",
   "language": "python",
   "name": "python3"
  },
  "language_info": {
   "codemirror_mode": {
    "name": "ipython",
    "version": 3
   },
   "file_extension": ".py",
   "mimetype": "text/x-python",
   "name": "python",
   "nbconvert_exporter": "python",
   "pygments_lexer": "ipython3",
   "version": "3.7.7"
  }
 },
 "nbformat": 4,
 "nbformat_minor": 4
}
